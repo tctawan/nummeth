{
 "cells": [
  {
   "cell_type": "code",
   "execution_count": 2,
   "metadata": {},
   "outputs": [],
   "source": [
    "%matplotlib inline\n",
    "import math\n",
    "import numpy as np\n",
    "from matplotlib import pyplot as plt"
   ]
  },
  {
   "cell_type": "markdown",
   "metadata": {},
   "source": [
    "# Homework"
   ]
  },
  {
   "cell_type": "markdown",
   "metadata": {},
   "source": [
    "## Problem 1\n",
    "\n",
    "Give me the solution to $x = e^{-x}$ that is $10^{-6}$ using bisection method.\n",
    "\n",
    "Pick the initial bound from the following and explain why you can't pick the other one.\n",
    "Bound A: (-1,0), Bound B (0,1)"
   ]
  },
  {
   "cell_type": "code",
   "execution_count": 3,
   "metadata": {},
   "outputs": [
    {
     "name": "stdout",
     "output_type": "stream",
     "text": [
      "0.567143440246582\n",
      "check : 2.348157265297246e-07\n"
     ]
    },
    {
     "data": {
      "image/png": "[encoded data removed]",
      "text/plain": [
       "<Figure size 432x288 with 1 Axes>"
      ]
     },
     "metadata": {},
     "output_type": "display_data"
    }
   ],
   "source": [
    "def f(x):\n",
    "    return x - math.exp(-x)\n",
    "\n",
    "def findN(l,r):\n",
    "    return math.ceil(math.log2((r-l)*10**6))\n",
    "\n",
    "def bisec(l,r):\n",
    "    n = findN(l,r)\n",
    "    for i in range(n):\n",
    "        guess = (l+r)/2\n",
    "        plt.axvline(guess,color = 'orange')\n",
    "        if(f(guess)*f(l)>0):\n",
    "            l = guess\n",
    "        else:\n",
    "            r = guess\n",
    "    return guess\n",
    "\n",
    "def solve(l,r):\n",
    "    xs = np.linspace(l,r,100)\n",
    "    ys = [f(x) for x in xs]\n",
    "    plt.plot(xs,ys)\n",
    "    plt.grid()\n",
    "    plt.axhline(0,color = 'red')\n",
    "    ans = bisec(l,r)\n",
    "    print(ans)\n",
    "    print(\"check : \" +str(f(ans)))\n",
    "    \n",
    "solve(0,1)"
   ]
  },
  {
   "cell_type": "markdown",
   "metadata": {},
   "source": [
    "Because we want to find the intersection of $y = x-e^{-x}$ and $y = 0$, the intersection doesn't exist for $x<0$"
   ]
  },
  {
   "cell_type": "markdown",
   "metadata": {},
   "source": [
    "## Problem 2\n",
    "Find all value of $x \\in [0,1]$ such that $f(x)=0$ for\n",
    "\n",
    "$f(x) = -0.000216747 + 0.0072868 x - 0.0977383 x^2 + 0.664685 x^3 - \n",
    " 2.40773 x^4 + 4.46766 x^5 - 3.7091 x^6 + x^7$\n",
    " \n",
    "Make sure your answers are at most $10^{-6}$ away from the real solution."
   ]
  },
  {
   "cell_type": "code",
   "execution_count": 4,
   "metadata": {},
   "outputs": [
    {
     "data": {
      "text/plain": [
       "{0.12216710562657829,\n",
       " 0.22002803918087124,\n",
       " 0.33329819187973486,\n",
       " 0.7854096383759471}"
      ]
     },
     "execution_count": 4,
     "metadata": {},
     "output_type": "execute_result"
    },
    {
     "data": {
      "image/png": "[encoded data removed]",
      "text/plain": [
       "<Figure size 432x288 with 1 Axes>"
      ]
     },
     "metadata": {},
     "output_type": "display_data"
    }
   ],
   "source": [
    "def f(x):\n",
    "    return -0.000216747 + 0.0072868*x - 0.0977383*x**2 + 0.664685*x**3 - \\\n",
    "            2.40773*x**4 + 4.46766*x**5 - 3.7091*x**6 + x**7\n",
    "\n",
    "def findN(l,r):\n",
    "    return math.ceil(math.log2((r-l)*10**6))\n",
    "\n",
    "def deriv(x):\n",
    "    return 0.0072868 - 2*0.0977383*x + 3*0.664685*x**2 - \\\n",
    "        4*2.40773*x**3 + 5*4.46766*x**4 - 6*3.7091*x**5 + 7*x**6\n",
    "\n",
    "def bisec(l,r):\n",
    "    n = findN(l,r)\n",
    "    for i in range(n):\n",
    "        guess = (l+r)/2\n",
    "        plt.axvline(guess,color = 'orange')\n",
    "        if(f(guess)*f(l)>0):\n",
    "            l = guess\n",
    "        else:\n",
    "            r = guess\n",
    "    return guess\n",
    "\n",
    "def newton(x,l,r):\n",
    "    for i in range(100):\n",
    "        m = deriv(x)\n",
    "        nextx = x - f(x)/m\n",
    "        if(nextx > r or nextx<l):\n",
    "            return -1\n",
    "        x = nextx\n",
    "    return x\n",
    "\n",
    "def findIntersect():\n",
    "    xs = np.linspace(0,1,100)\n",
    "    ys = [f(x) for x in xs]\n",
    "    plt.grid()\n",
    "    plt.plot(xs,ys)\n",
    "    ans = set()\n",
    "    for i in range(99):\n",
    "        l,r = xs[i],xs[i+1]\n",
    "        if((f(l)*f(r))<0): \n",
    "            xintersect = bisec(l,r)\n",
    "            ans.add(xintersect)\n",
    "    return ans\n",
    "\n",
    "\n",
    "findIntersect()"
   ]
  },
  {
   "cell_type": "markdown",
   "metadata": {},
   "source": [
    "2.1) Find all the local minima and maxima of the above function. How do you figure out whether it is a local maximum or local minimum"
   ]
  },
  {
   "cell_type": "code",
   "execution_count": 5,
   "metadata": {},
   "outputs": [
    {
     "name": "stdout",
     "output_type": "stream",
     "text": [
      "{0.19136740944602273, 0.29709139737215906, 0.6817805742976643}\n"
     ]
    },
    {
     "data": {
      "image/png": "[encoded data removed]",
      "text/plain": [
       "<Figure size 432x288 with 1 Axes>"
      ]
     },
     "metadata": {},
     "output_type": "display_data"
    }
   ],
   "source": [
    "\n",
    "def findMaxMin():\n",
    "    xs = np.linspace(0,1,100)\n",
    "    ys = [f(x) for x in xs]\n",
    "    plt.grid()\n",
    "    plt.plot(xs,ys)\n",
    "    ans = set()\n",
    "    for i in range(99):\n",
    "        l,r = xs[i],xs[i+1]\n",
    "        if(deriv(l)*deriv(r)<0):\n",
    "            max_min = bisecDeriv(l,r)\n",
    "            ans.add(max_min)\n",
    "    return ans\n",
    "\n",
    "def bisecDeriv(l,r):\n",
    "    n = findN(l,r)\n",
    "    for i in range(n):\n",
    "        m = (l+r)/2\n",
    "        plt.axvline(m,color = 'green')\n",
    "        if(deriv(m)*deriv(l)>0):\n",
    "            l = m\n",
    "        else:\n",
    "            r = m\n",
    "    return m\n",
    "\n",
    "locls = findMaxMin()\n",
    "print(locls)"
   ]
  },
  {
   "cell_type": "markdown",
   "metadata": {},
   "source": [
    "Take the second derivative test. If the answer is positive, answer is the local minimum but if it is negative, the answer is local maximum."
   ]
  },
  {
   "cell_type": "markdown",
   "metadata": {},
   "source": [
    "2.2) What is the `global maximum` and `global minimum` of the function above within the range $x\\in[0,1]$"
   ]
  },
  {
   "cell_type": "code",
   "execution_count": 6,
   "metadata": {},
   "outputs": [
    {
     "name": "stdout",
     "output_type": "stream",
     "text": [
      "global max: 0.003825808321974475\n",
      "global min: -0.07515324699999937\n"
     ]
    }
   ],
   "source": [
    "\n",
    "def globalMaxMin(locls,l,r):\n",
    "    locls.add(l)\n",
    "    locls.add(r)\n",
    "    gmin = float(\"inf\")\n",
    "    gmax = float(\"-inf\")\n",
    "    for l in locls:\n",
    "        y = f(l)\n",
    "        if(y>gmax):\n",
    "            gmax = y \n",
    "        if(y<gmin):\n",
    "            gmin = y\n",
    "    return gmin,gmax\n",
    "    \n",
    "    \n",
    "gmin,gmax = globalMaxMin(locls,0,1)\n",
    "\n",
    "print(\"global max: \"+ str(gmax))\n",
    "print(\"global min: \" + str(gmin))"
   ]
  },
  {
   "cell_type": "markdown",
   "metadata": {},
   "source": [
    "## Problem 3\n",
    "In quantum physics, when finding a bound state for a finite potential well one would end up with the following equation(Yes E is negative):\n",
    "\n",
    "$$\n",
    "\\sqrt{\\frac{-E}{E+V_0}} = \\tan \\sqrt{2m \\frac{E+V_0}{\\hbar^2} a}\n",
    "$$\n",
    "\n",
    "The goal is to find all Energy($E$) that satisfy this equation.\n",
    "For simplicity, let\n",
    "- $V_0 = 1$\n",
    "- $m = 1$\n",
    "- $a = 1$\n",
    "- $\\hbar = 1$(Yes this is called natural unit)\n",
    "\n",
    "$$\n",
    "    \\sqrt{\\frac{-E}{E+1}} = \\tan \\sqrt{2(E+1)}\n",
    "$$\n",
    "\n",
    "Find the value for $E\\in (-1.0, 0)$ which satisfy the equation above). Make sure you accuracy is $<\\pm10^{-4}$\n"
   ]
  },
  {
   "cell_type": "code",
   "execution_count": 7,
   "metadata": {},
   "outputs": [
    {
     "data": {
      "text/plain": [
       "[<matplotlib.lines.Line2D at 0x7fb17969c9b0>]"
      ]
     },
     "execution_count": 7,
     "metadata": {},
     "output_type": "execute_result"
    },
    {
     "data": {
      "image/png": "[encoded data removed]",
      "text/plain": [
       "<Figure size 432x288 with 1 Axes>"
      ]
     },
     "metadata": {},
     "output_type": "display_data"
    }
   ],
   "source": [
    "def f(x):\n",
    "    return math.sqrt(-x/(x+1))\n",
    "def g(x):\n",
    "    return math.tan(math.sqrt(2*(x + 1)))\n",
    "\n",
    "xs = np.linspace(-0.999,0, 100)\n",
    "fx = [f(x) for x in xs]\n",
    "gx = [g(x) for x in xs]\n",
    "plt.plot(xs,fx,color = 'red')\n",
    "plt.plot(xs,gx)"
   ]
  },
  {
   "cell_type": "code",
   "execution_count": 8,
   "metadata": {},
   "outputs": [
    {
     "name": "stdout",
     "output_type": "stream",
     "text": [
      "-0.6039486694335938\n"
     ]
    },
    {
     "data": {
      "text/plain": [
       "0.00027539997833225804"
      ]
     },
     "execution_count": 8,
     "metadata": {},
     "output_type": "execute_result"
    },
    {
     "data": {
      "image/png": "[encoded data removed]",
      "text/plain": [
       "<Figure size 432x288 with 1 Axes>"
      ]
     },
     "metadata": {},
     "output_type": "display_data"
    }
   ],
   "source": [
    "def f(x):\n",
    "    return math.sqrt(-x/(x+1)) - math.tan(math.sqrt(2*(x + 1)))\n",
    "\n",
    "def findN(l,r):\n",
    "    b = r-l\n",
    "    return math.ceil(math.log2((b)*10**4))\n",
    "\n",
    "def bisecE(l,r):\n",
    "    n = findN(l,r)\n",
    "    for i in range(n):\n",
    "        guess  = (l+r)/2\n",
    "        plt.axvline(guess,color = 'orange')\n",
    "        if(f(guess)*f(l)>0):\n",
    "            l = guess\n",
    "        else:\n",
    "            r = guess\n",
    "    return guess\n",
    "\n",
    "xs = np.linspace(-0.999,0,100)\n",
    "ys = [f(x) for x in xs]\n",
    "plt.plot(xs,ys)\n",
    "plt.grid()\n",
    "ans = bisecE(-0.999,0)\n",
    "print(ans)\n",
    "f(ans)\n",
    "    "
   ]
  },
  {
   "cell_type": "markdown",
   "metadata": {},
   "source": [
    "## Problem 4\n",
    "Ply quit programming and decide to be a Apple(fruit) shop owner. He bought 1000 apples everyday and try to sell it. The probability $k$ customer want Ply's apple(one each) is given by Poisson distribution:\n",
    "\n",
    "$$\n",
    "    P(k; \\lambda) = \\frac{\\lambda^k \\exp(-\\lambda)}{k!}\n",
    "$$\n",
    "\n",
    "Where $\\lambda$ is an parameter that represent the mean of number of people that want Ply's apple each day.\n",
    "\n",
    "After selling apples for 2000 days Ply found that his 1000 apples a day are sold out 600 days out of 2000 days.\n",
    "\n",
    "The goal for this problem is to figure out how he should change the number of apples he bought in a day.\n",
    "\n",
    "- In case you are curious https://en.wikipedia.org/wiki/Poisson_distribution. The true distribution of this selling apple process should be binomial distribution but with large enough customer and low enough probability of an individual buying an apple this is an excellent approximatoin."
   ]
  },
  {
   "cell_type": "markdown",
   "metadata": {
    "collapsed": true
   },
   "source": [
    "4.1) You may find that if you try to code poisson distribution directly. It will not work with large number.\n",
    "$$\n",
    "    P(k; \\lambda) = \\frac{\\lambda^k \\exp(-\\lambda)}{k!}\n",
    "$$\n",
    "\n",
    "Explain briefly why python complains"
   ]
  },
  {
   "cell_type": "code",
   "execution_count": 9,
   "metadata": {},
   "outputs": [
    {
     "ename": "OverflowError",
     "evalue": "int too large to convert to float",
     "output_type": "error",
     "traceback": [
      "\u001b[0;31m---------------------------------------------------------------------------\u001b[0m",
      "\u001b[0;31mOverflowError\u001b[0m                             Traceback (most recent call last)",
      "\u001b[0;32m<ipython-input-9-a98ec8910a85>\u001b[0m in \u001b[0;36m<module>\u001b[0;34m()\u001b[0m\n\u001b[1;32m      2\u001b[0m \u001b[0;32mdef\u001b[0m \u001b[0mbad_poisson\u001b[0m\u001b[0;34m(\u001b[0m\u001b[0mlmd\u001b[0m\u001b[0;34m,\u001b[0m \u001b[0mk\u001b[0m\u001b[0;34m)\u001b[0m\u001b[0;34m:\u001b[0m\u001b[0;34m\u001b[0m\u001b[0m\n\u001b[1;32m      3\u001b[0m     \u001b[0;32mreturn\u001b[0m \u001b[0mpow\u001b[0m\u001b[0;34m(\u001b[0m\u001b[0mlmd\u001b[0m\u001b[0;34m,\u001b[0m\u001b[0mk\u001b[0m\u001b[0;34m)\u001b[0m\u001b[0;34m*\u001b[0m\u001b[0mmath\u001b[0m\u001b[0;34m.\u001b[0m\u001b[0mexp\u001b[0m\u001b[0;34m(\u001b[0m\u001b[0;34m-\u001b[0m\u001b[0mlmd\u001b[0m\u001b[0;34m)\u001b[0m\u001b[0;34m/\u001b[0m\u001b[0mmath\u001b[0m\u001b[0;34m.\u001b[0m\u001b[0mfactorial\u001b[0m\u001b[0;34m(\u001b[0m\u001b[0mk\u001b[0m\u001b[0;34m)\u001b[0m\u001b[0;34m\u001b[0m\u001b[0m\n\u001b[0;32m----> 4\u001b[0;31m \u001b[0mbad_poisson\u001b[0m\u001b[0;34m(\u001b[0m\u001b[0;36m1000\u001b[0m\u001b[0;34m,\u001b[0m\u001b[0;36m1000\u001b[0m\u001b[0;34m)\u001b[0m \u001b[0;31m# uncomment to see it breaks\u001b[0m\u001b[0;34m\u001b[0m\u001b[0m\n\u001b[0m",
      "\u001b[0;32m<ipython-input-9-a98ec8910a85>\u001b[0m in \u001b[0;36mbad_poisson\u001b[0;34m(lmd, k)\u001b[0m\n\u001b[1;32m      1\u001b[0m \u001b[0;32mimport\u001b[0m \u001b[0mmath\u001b[0m\u001b[0;34m\u001b[0m\u001b[0m\n\u001b[1;32m      2\u001b[0m \u001b[0;32mdef\u001b[0m \u001b[0mbad_poisson\u001b[0m\u001b[0;34m(\u001b[0m\u001b[0mlmd\u001b[0m\u001b[0;34m,\u001b[0m \u001b[0mk\u001b[0m\u001b[0;34m)\u001b[0m\u001b[0;34m:\u001b[0m\u001b[0;34m\u001b[0m\u001b[0m\n\u001b[0;32m----> 3\u001b[0;31m     \u001b[0;32mreturn\u001b[0m \u001b[0mpow\u001b[0m\u001b[0;34m(\u001b[0m\u001b[0mlmd\u001b[0m\u001b[0;34m,\u001b[0m\u001b[0mk\u001b[0m\u001b[0;34m)\u001b[0m\u001b[0;34m*\u001b[0m\u001b[0mmath\u001b[0m\u001b[0;34m.\u001b[0m\u001b[0mexp\u001b[0m\u001b[0;34m(\u001b[0m\u001b[0;34m-\u001b[0m\u001b[0mlmd\u001b[0m\u001b[0;34m)\u001b[0m\u001b[0;34m/\u001b[0m\u001b[0mmath\u001b[0m\u001b[0;34m.\u001b[0m\u001b[0mfactorial\u001b[0m\u001b[0;34m(\u001b[0m\u001b[0mk\u001b[0m\u001b[0;34m)\u001b[0m\u001b[0;34m\u001b[0m\u001b[0m\n\u001b[0m\u001b[1;32m      4\u001b[0m \u001b[0mbad_poisson\u001b[0m\u001b[0;34m(\u001b[0m\u001b[0;36m1000\u001b[0m\u001b[0;34m,\u001b[0m\u001b[0;36m1000\u001b[0m\u001b[0;34m)\u001b[0m \u001b[0;31m# uncomment to see it breaks\u001b[0m\u001b[0;34m\u001b[0m\u001b[0m\n",
      "\u001b[0;31mOverflowError\u001b[0m: int too large to convert to float"
     ]
    }
   ],
   "source": [
    "import math\n",
    "def bad_poisson(lmd, k):\n",
    "    return pow(lmd,k)*math.exp(-lmd)/math.factorial(k)\n",
    "bad_poisson(1000,1000) # uncomment to see it breaks"
   ]
  },
  {
   "cell_type": "markdown",
   "metadata": {},
   "source": [
    "Factorial get large way too quickly."
   ]
  },
  {
   "cell_type": "markdown",
   "metadata": {},
   "source": [
    "4.2) A very useful trick to avoid this problem is to take log and exponentiate. That is\n",
    "\n",
    "$$\n",
    "    P(k; \\lambda) = \\exp\\left( \\ln \\left[ \\frac{\\lambda^k \\exp(-\\lambda)}{k!} \\right] \\right)\n",
    "$$\n",
    "\n",
    "First, show that\n",
    "$$\n",
    "    \\ln(P(k; \\lambda)) = (\\ldots \\ln(\\ldots)-\\ldots)-\\ln(k!)\n",
    "$$\n",
    "\n"
   ]
  },
  {
   "cell_type": "markdown",
   "metadata": {
    "collapsed": true
   },
   "source": [
    "\\begin{align*}\n",
    "\\ln(P(k; \\lambda)) &= \\ln[(\\lambda^k)\\exp(-\\lambda)] - \\ln(k!)\\\\\n",
    "&= k\\ln(\\lambda) + \\ln(e)^{-\\lambda} - \\ln(k!) \\\\\n",
    "&= k\\ln(\\lambda) - \\lambda- \\ln(k!)\n",
    "\\end{align*}"
   ]
  },
  {
   "cell_type": "markdown",
   "metadata": {},
   "source": [
    "4.3) $\\ln(k!)$ shows up everywhere in math. So most math library have `lgamma` function to compute this very fast.\n",
    "For example,\n",
    "\n",
    "`math.lgamma(5) == math.log(math.factorial(4))`\n",
    "\n",
    "Your job for this problem is to implement $P(k; \\lambda)$ using log-exp trick.\n",
    "\n",
    "If you do it right, $P(k=1000; \\mu=1000) \\approx 0.0126146$"
   ]
  },
  {
   "cell_type": "code",
   "execution_count": 10,
   "metadata": {},
   "outputs": [
    {
     "data": {
      "text/plain": [
       "0.012614611348719664"
      ]
     },
     "execution_count": 10,
     "metadata": {},
     "output_type": "execute_result"
    }
   ],
   "source": [
    "def p(k , lam):\n",
    "    return math.exp(k*math.log(lam) -lam -math.lgamma(k+1))\n",
    "\n",
    "p(1000,1000)\n",
    "    "
   ]
  },
  {
   "cell_type": "markdown",
   "metadata": {},
   "source": [
    "4.4) Now here is the fun part. Suppose that $\\lambda = 987.6$(this is not true). Find the probability that Ply will sell all his 1000 apples. (Remember if 2000 people want Ply's apple, he his apple will also be sold out). \n",
    "\n",
    "And No, summing up to infinity is not practical."
   ]
  },
  {
   "cell_type": "code",
   "execution_count": 11,
   "metadata": {},
   "outputs": [
    {
     "data": {
      "text/plain": [
       "0.3507846581670564"
      ]
     },
     "execution_count": 11,
     "metadata": {},
     "output_type": "execute_result"
    }
   ],
   "source": [
    "def probSellOut(apples,lam):\n",
    "    prob = 1\n",
    "    for i in range(apples):\n",
    "        prob -= p(i,lam)\n",
    "    return prob\n",
    "\n",
    "probSellOut(1000,987.6)"
   ]
  },
  {
   "cell_type": "markdown",
   "metadata": {},
   "source": [
    "4.5) Recall the information that\n",
    "\n",
    "After selling apples for 2000 days Ply found that his 1000 apples a day are sold out 600 days out of 2000 days.\n",
    "\n",
    "Find the value for $\\lambda$ to a decent accuracy($<\\pm 0.1$)"
   ]
  },
  {
   "cell_type": "code",
   "execution_count": 12,
   "metadata": {},
   "outputs": [
    {
     "name": "stdout",
     "output_type": "stream",
     "text": [
      "983.177353286743\n"
     ]
    }
   ],
   "source": [
    "def prob(lam):\n",
    "    prob = 1\n",
    "    for i in range(1000):\n",
    "        prob -= p(i,lam)\n",
    "    return prob-0.3\n",
    "\n",
    "def bisec(l,r):\n",
    "    n = math.ceil(math.log2((r-l)*10**2))\n",
    "    for i in range(n):\n",
    "        guess = (l+r)/2\n",
    "#         plt.axvline(guess,color = 'orange')\n",
    "        if(prob(guess)*prob(l)>0):\n",
    "            l = guess\n",
    "        else:\n",
    "            r= guess\n",
    "    return guess\n",
    "        \n",
    "def plot():\n",
    "    xs = np.linspace(0.01,1000,1000)\n",
    "    ys = [prob(lam) for lam in xs]\n",
    "    plt.plot(xs,ys)\n",
    "    plt.axhline(0, color='red')\n",
    "\n",
    "# plot()\n",
    "lam = bisec(0.01,1000)\n",
    "print(lam)"
   ]
  },
  {
   "cell_type": "markdown",
   "metadata": {},
   "source": [
    "4.6) Using $\\lambda$ you found in 4.5).\n",
    "\n",
    "Ply bounght apple for 20 Baht each and he sell it for 50 Baht each. Which means that for each apple he sells he make a profit of 30 baht. But, at the end of each day Ply has to trash all unsold Apples(taking a loss of 20 Baht each).\n",
    "\n",
    "If Ply bought 1000 apples a day, what would be his expected profit(remember expected value from discrete math/stat/quantum?)."
   ]
  },
  {
   "cell_type": "code",
   "execution_count": 13,
   "metadata": {},
   "outputs": [
    {
     "data": {
      "text/plain": [
       "28864.56775491303"
      ]
     },
     "execution_count": 13,
     "metadata": {},
     "output_type": "execute_result"
    }
   ],
   "source": [
    "def expectedVal(n,lam=983.17735):\n",
    "    e =  0\n",
    "    n = int(n)\n",
    "    for sold in range (n):\n",
    "        prob = p(sold,lam)\n",
    "        income = 30*sold - 20*(n-sold)\n",
    "        e += prob*income\n",
    "    e += probSellOut(n,lam)*30*n\n",
    "    return e\n",
    "\n",
    "expectedVal(1000)"
   ]
  },
  {
   "cell_type": "markdown",
   "metadata": {},
   "source": [
    "4.7) Using $\\lambda$ you found in 4.5) Find the number of apple Ply should buy in a day to maximize his expected profit."
   ]
  },
  {
   "cell_type": "code",
   "execution_count": 14,
   "metadata": {},
   "outputs": [
    {
     "data": {
      "text/plain": [
       "991"
      ]
     },
     "execution_count": 14,
     "metadata": {},
     "output_type": "execute_result"
    }
   ],
   "source": [
    "def maxExpec():\n",
    "    maxe = 0\n",
    "    maxApp = None\n",
    "    for n in range(900,1100):\n",
    "        ep = expectedVal(n)\n",
    "        if(ep > maxe):\n",
    "            maxe = ep\n",
    "            maxApp = n\n",
    "        \n",
    "    return maxApp\n",
    "\n",
    "# xs = np.linspace(900,1100,200)\n",
    "# ys = [expectedVal(x) for x in xs]\n",
    "# plt.plot(xs,ys)\n",
    "maxExpec()"
   ]
  },
  {
   "cell_type": "markdown",
   "metadata": {},
   "source": [
    "## Problem 5\n",
    "\n",
    "Full Width at Half Maximum(FWHM). Distribution width is a very important quantity. It tells you how wide a the distribution is. One way to do that is to use a quantity called full-width half max.\n",
    "\n",
    "This is the width of the distribution at half maximum. \n",
    "\n",
    "For example for distribution shown below the maximum is at x=0.0 and y=1.0\n",
    "\n",
    "The maximum of this distribution is 1.0. So we are interested in the width of the distribution when the value of the distribution is 1.0/2=0.5\n",
    "\n",
    "The width of the distribution is shown in black line. In this case it's about 2.35"
   ]
  },
  {
   "cell_type": "code",
   "execution_count": 15,
   "metadata": {},
   "outputs": [
    {
     "data": {
      "text/plain": [
       "Text(0,0.3,'FWHM')"
      ]
     },
     "execution_count": 15,
     "metadata": {},
     "output_type": "execute_result"
    },
    {
     "data": {
      "image/png": "[encoded data removed]",
      "text/plain": [
       "<Figure size 432x288 with 1 Axes>"
      ]
     },
     "metadata": {},
     "output_type": "display_data"
    }
   ],
   "source": [
    "import math\n",
    "def demo(x):\n",
    "    return math.exp(-x**2/2.0)\n",
    "x = np.linspace(-3,3)\n",
    "y = [demo(xx) for xx in x]\n",
    "plt.plot(x,y)\n",
    "plt.axhline(0.5, color='red')\n",
    "\n",
    "plt.axvline(2.355/2,color='red',linestyle='dashed')\n",
    "plt.axvline(-2.355/2,color='red',linestyle='dashed')\n",
    "\n",
    "plt.grid()\n",
    "plt.annotate(\n",
    "    '', xy=(-2.355/2, 0.4), xycoords='data',\n",
    "    xytext=(2.355/2, 0.4), textcoords='data',\n",
    "    arrowprops={'arrowstyle': '<->'})\n",
    "plt.text(0,0.3,'FWHM',horizontalalignment ='center')"
   ]
  },
  {
   "cell_type": "markdown",
   "metadata": {},
   "source": [
    "5.1)Find FWHM of the following function. Make sure the bound on error of the FWHM is less than $10^{-4}$."
   ]
  },
  {
   "cell_type": "code",
   "execution_count": 16,
   "metadata": {},
   "outputs": [
    {
     "data": {
      "text/plain": [
       "[<matplotlib.lines.Line2D at 0x7fb179347d30>]"
      ]
     },
     "execution_count": 16,
     "metadata": {},
     "output_type": "execute_result"
    },
    {
     "data": {
      "image/png": "[encoded data removed]",
      "text/plain": [
       "<Figure size 432x288 with 1 Axes>"
      ]
     },
     "metadata": {},
     "output_type": "display_data"
    }
   ],
   "source": [
    "import math\n",
    "def f(x, gamma=3.1):\n",
    "    mu = 2.345\n",
    "    return gamma/((x-mu)**2+gamma**2)\n",
    "x = np.linspace(-10,10,200)\n",
    "y = [f(xx) for xx in x]\n",
    "plt.plot(x,y)"
   ]
  },
  {
   "cell_type": "code",
   "execution_count": 17,
   "metadata": {},
   "outputs": [
    {
     "name": "stdout",
     "output_type": "stream",
     "text": [
      "6.20000000292345\n"
     ]
    }
   ],
   "source": [
    "def deriv(x,gamma=3.1):\n",
    "    mu = 2.345\n",
    "    return (2*gamma*(mu-x))/((x-mu)**2+gamma**2)**2\n",
    "\n",
    "def findN(l,r):\n",
    "    b = r-l\n",
    "    return math.ceil(math.log2((b)*10**4))\n",
    "\n",
    "def findMax(l,r,gamma=3.1):\n",
    "    n = findN(l,r)\n",
    "    for i in range(n):\n",
    "        guess = (l+r)/2\n",
    "        if(deriv(guess,gamma)*deriv(l,gamma) > 0 ):\n",
    "            l = guess \n",
    "        else:\n",
    "            r = guess\n",
    "    return guess\n",
    "\n",
    "def findFWHM(xmax,gamma=3.1):\n",
    "    mu= 2.345\n",
    "    ymax = f(xmax,gamma)\n",
    "    hm = ymax/2\n",
    "    xl = mu - math.sqrt(gamma/hm - gamma**2)\n",
    "    xr = mu + math.sqrt(gamma/hm - gamma**2)\n",
    "    fwhm = xr-xl\n",
    "#     plot(xl,xr,hm,xmax,gamma)\n",
    "    return fwhm\n",
    "\n",
    "def plot(xl,xr,hm,xmax,gamma):\n",
    "    xs = np.linspace(-10,10,200)\n",
    "    yd = [deriv(x,gamma) for x in xs]\n",
    "    y = [f(xx,gamma) for xx in x]\n",
    "    plt.plot(xs,ys, label = \"gradient\")\n",
    "    plt.plot(xs,y, label = \"f (x)\")\n",
    "    plt.grid()\n",
    "    plt.legend()\n",
    "    \n",
    "    plt.axvline(xl, color = 'red', linestyle= 'dashed')\n",
    "    plt.axvline(xr, color = 'red', linestyle= 'dashed')\n",
    "    plt.axhline(hm , color = 'red')\n",
    "    plt.text(xmax,hm-0.05,'FWHM',horizontalalignment ='center')\n",
    "    plt.annotate(\n",
    "    '', xy=(xr, hm-0.02), xycoords='data',\n",
    "    xytext=(xl, hm-0.02), textcoords='data',\n",
    "    arrowprops={'arrowstyle': '<->'})\n",
    "    \n",
    "xmax = findMax(-9.9999,10)\n",
    "fwhm = findFWHM(xmax)\n",
    "print(fwhm)"
   ]
  },
  {
   "cell_type": "markdown",
   "metadata": {},
   "source": [
    "5.2) Plot FWHM(y-axis) as a function of $\\gamma$(gamma) from $\\gamma=0.5\\ldots 3$. Make sure you have at least 30 points."
   ]
  },
  {
   "cell_type": "code",
   "execution_count": 18,
   "metadata": {},
   "outputs": [
    {
     "name": "stdout",
     "output_type": "stream",
     "text": [
      "0.1081651140465921\n"
     ]
    },
    {
     "data": {
      "image/png": "[encoded data removed]",
      "text/plain": [
       "<Figure size 432x288 with 1 Axes>"
      ]
     },
     "metadata": {},
     "output_type": "display_data"
    }
   ],
   "source": [
    "def plotfwhm():\n",
    "    gs = np.linspace(0.5,3,30)\n",
    "    ys = []\n",
    "    for g in gs:\n",
    "        xmax = findMax(-9.9999,10,g)\n",
    "        fwhm = findFWHM(xmax,g)\n",
    "        ys.append(fwhm)\n",
    "    plt.plot(gs,ys)\n",
    "    \n",
    "plotfwhm()\n",
    "print(f(1.0, gamma=0.2)) # you may find this useful"
   ]
  },
  {
   "cell_type": "markdown",
   "metadata": {
    "collapsed": true
   },
   "source": [
    "5.3) (Optional) Prove the relation you found in 5.2)"
   ]
  },
  {
   "cell_type": "markdown",
   "metadata": {
    "collapsed": true
   },
   "source": [
    "\\begin{align*}\n",
    "\\text{FWHM } &= {xr - xl}\\\\\n",
    "&= \\mu + \\sqrt{\\frac{\\gamma}{hm} - \\gamma^2} - \\mu + \\sqrt{\\frac{\\gamma}{hm} - \\gamma^2} \\\\\n",
    "&= 2\\sqrt{\\frac{\\gamma}{hm} - \\gamma^2} && \\text{ ; where } hm =\\frac{\\gamma}{2[(x_{max}-\\mu)^2+\\gamma^2]} \\\\\n",
    "&=2\\sqrt{\\frac{\\gamma}{\\frac{\\gamma}{2(x_{max}-\\mu)^2+2\\gamma^2}}-\\gamma^2}\\\\\n",
    "&=2\\sqrt{2(x_{max}-\\mu)^2+\\gamma^2}\n",
    "\\end{align*}\n",
    "\n",
    "In order to find $x_{max}$, we know that $x_{max}: f^{'}(x) = 0 $ \n",
    "\\begin{align*}\n",
    "    f^{'}(x) &= \\frac{2\\gamma(\\mu-x)}{[(x-\\mu)^2+\\gamma^2]^2}\\\\\n",
    "    x &= \\mu\n",
    "\\end{align*}\n",
    "\n",
    "So, $x_{max} = \\mu$ . Therefore,\n",
    "\\begin{align*}\n",
    "    \\text{FWHM } &= 2\\sqrt{\\gamma^2}\\\\\n",
    "    &= 2\\gamma\t\t\n",
    "\\end{align*}"
   ]
  }
 ],
 "metadata": {
  "kernelspec": {
   "display_name": "Python 3",
   "language": "python",
   "name": "python3"
  },
  "language_info": {
   "codemirror_mode": {
    "name": "ipython",
    "version": 3
   },
   "file_extension": ".py",
   "mimetype": "text/x-python",
   "name": "python",
   "nbconvert_exporter": "python",
   "pygments_lexer": "ipython3",
   "version": "3.6.5"
  },
  "toc": {
   "colors": {
    "hover_highlight": "#DAA520",
    "running_highlight": "#FF0000",
    "selected_highlight": "#FFD700"
   },
   "moveMenuLeft": true,
   "nav_menu": {
    "height": "30px",
    "width": "252px"
   },
   "navigate_menu": true,
   "number_sections": false,
   "sideBar": true,
   "threshold": 4,
   "toc_cell": false,
   "toc_section_display": "block",
   "toc_window_display": false
  }
 },
 "nbformat": 4,
 "nbformat_minor": 1
}
